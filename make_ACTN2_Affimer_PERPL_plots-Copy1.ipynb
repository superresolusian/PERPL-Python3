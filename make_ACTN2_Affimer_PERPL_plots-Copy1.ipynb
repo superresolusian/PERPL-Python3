{
 "cells": [
  {
   "cell_type": "markdown",
   "metadata": {},
   "source": [
    "# Make ACTN2 Affimer PERPL analysis plots"
   ]
  },
  {
   "cell_type": "markdown",
   "metadata": {},
   "source": [
    "## Imports"
   ]
  },
  {
   "cell_type": "code",
   "execution_count": 1,
   "metadata": {},
   "outputs": [],
   "source": [
    "import numpy as np\n",
    "import pandas as pd\n",
    "import matplotlib.pyplot as plt\n",
    "# import modelling_general\n",
    "# import plotting\n",
    "from zdisk_modelling import *\n",
    "# from zdisk_plots import plot_distance_hist # FUCKEN HATES IMPORTING ANYTHING FROM THIS MODULE, ALWAYS HANGS"
   ]
  },
  {
   "cell_type": "markdown",
   "metadata": {},
   "source": [
    "## Set average estimated localisation precision for Affimer and PALM data.\n",
    "This is the mean after filtering for localisation precision < 5 nm."
   ]
  },
  {
   "cell_type": "code",
   "execution_count": 2,
   "metadata": {},
   "outputs": [],
   "source": [
    "af647_precision = 8.1 # Mean value after filtering for precision < 5 nm # BUGGY CELL"
   ]
  },
  {
   "cell_type": "markdown",
   "metadata": {},
   "source": [
    "## Set standard maximum distance over which to plot distances and fit models."
   ]
  },
  {
   "cell_type": "code",
   "execution_count": 3,
   "metadata": {},
   "outputs": [],
   "source": [
    "fitlength = 100"
   ]
  },
  {
   "cell_type": "markdown",
   "metadata": {},
   "source": [
    "## Choose Affimer relative position data and combine files if necessary\n",
    "### Insert paths to the Affimer relative position data here:"
   ]
  },
  {
   "cell_type": "code",
   "execution_count": 4,
   "metadata": {},
   "outputs": [
    {
     "name": "stdout",
     "output_type": "stream",
     "text": [
      "       xx_separation  yy_separation  axial  transverse\n",
      "0            0.10062        0.19558    0.0    0.219945\n",
      "1            0.27771       -0.03546    0.0    0.279965\n",
      "2            0.33143        0.10600    0.0    0.347968\n",
      "3            0.13413       -0.44378    0.0    0.463607\n",
      "4            0.42574        0.38593    0.0    0.574627\n",
      "...              ...            ...    ...         ...\n",
      "13418       56.97484       58.82318    0.0   81.891995\n",
      "13419       59.94875       55.93298    0.0   81.989944\n",
      "13420       59.16683      -58.17960    0.0   82.979393\n",
      "13421       59.39962      -58.57249    0.0   83.420929\n",
      "13422       59.24363      -59.81104    0.0   84.185321\n",
      "\n",
      "[13423 rows x 4 columns]\n"
     ]
    }
   ],
   "source": [
    "actn_affimer_relpos_path = r\"/Users/sianculley/Code/PERPL-Python3/data/PERPL_relative_positions/0nm_0pc_filter_65-141nm_10nm_uncertainty/filter_60_2D_bin1_2024-01-05_18-47-10/0nm_0pc_filter_65-141nm_10nm_uncertainty_PERPL-relpos_60.0filter.csv\"\n",
    "relpos = pd.read_csv(actn_affimer_relpos_path)\n",
    "# need to rename columns 3 and 4 to axial and transverse\n",
    "relpos = relpos.rename(columns={\" \": \"axial\", \"xy_separation\": \"transverse\"})\n",
    "print(relpos)"
   ]
  },
  {
   "cell_type": "markdown",
   "metadata": {},
   "source": [
    "### Select desired datasets to combine here:\n",
    "These contain all data attributes, including the relative positions in both directions for each pair of localisations. We will filter e.g. for cell-axial data later."
   ]
  },
  {
   "cell_type": "markdown",
   "metadata": {},
   "source": [
    "### Data attributes and number of data points:"
   ]
  },
  {
   "cell_type": "code",
   "execution_count": 5,
   "metadata": {},
   "outputs": [
    {
     "data": {
      "text/plain": [
       "xx_separation    0.100620\n",
       "yy_separation    0.195580\n",
       "axial            0.000000\n",
       "transverse       0.219945\n",
       "Name: 0, dtype: float64"
      ]
     },
     "execution_count": 5,
     "metadata": {},
     "output_type": "execute_result"
    }
   ],
   "source": [
    "relpos.iloc[0, :] # This shows the first relative position."
   ]
  },
  {
   "cell_type": "code",
   "execution_count": 6,
   "metadata": {},
   "outputs": [
    {
     "data": {
      "text/plain": [
       "13423"
      ]
     },
     "execution_count": 6,
     "metadata": {},
     "output_type": "execute_result"
    }
   ],
   "source": [
    "len(relpos) # This shows how many relative positions."
   ]
  },
  {
   "cell_type": "markdown",
   "metadata": {},
   "source": [
    "## Get the axial (X) distances, without duplicates\n",
    "The YZ-distance limit for pairs of localisations to include can be set here."
   ]
  },
  {
   "cell_type": "code",
   "execution_count": 8,
   "metadata": {},
   "outputs": [
    {
     "name": "stdout",
     "output_type": "stream",
     "text": [
      "[ 0.21994527  0.34796817  0.57462728 ... 81.89199533 82.97939279\n",
      " 84.18532058]\n"
     ]
    }
   ],
   "source": [
    "# This is the YZ-distance limit for X-distances to include:\n",
    "transverse_limit = 60.\n",
    "\n",
    "transverse_distances = get_transverse_separations(relpos, max_distance=100., axial_limit=10.)\n",
    "transverse_distances = remove_duplicates(transverse_distances)\n",
    "print(transverse_distances)"
   ]
  },
  {
   "cell_type": "markdown",
   "metadata": {},
   "source": [
    "## Get the 1-nm bin histogram data\n",
    "Up to distance = fitlength"
   ]
  },
  {
   "cell_type": "code",
   "execution_count": 9,
   "metadata": {},
   "outputs": [],
   "source": [
    "# PASTE FUNCTION OUT OF BUGGY MODULE\n",
    "def plot_distance_hist(distances, fitlength, color='gray'):\n",
    "    \"\"\"Plot histogram of experimental distances, with 1 nm bins.\n",
    "\n",
    "    Args:\n",
    "        distances (numpy array-like):\n",
    "            Set of distances (nm) to plot.\n",
    "        fitlength (float):\n",
    "            The distance upto which the histogram will be calculated.\n",
    "        color (string):\n",
    "            Colour for the matplotlib histogram.\n",
    "    Returns:\n",
    "        hist_values (numpy array):\n",
    "            Histogram bin values.\n",
    "        bin_edges (numpy array):\n",
    "            Histogram bin edge positions. \n",
    "    \"\"\"\n",
    "    # Histogram figure with 1-nm bins\n",
    "    histfig = plt.figure()\n",
    "    histaxes = histfig.add_subplot(111)\n",
    "    hist_values, bin_edges = histaxes.hist(distances,\n",
    "                                           bins=np.arange(fitlength + 1),\n",
    "                                           color=color, alpha=0.5\n",
    "                                           )[0:2] # 2 not required\n",
    "    histaxes.set_xlim([0, fitlength])\n",
    "    # histaxes.set_ylim([0, 82])\n",
    "    histaxes.set_ylim(bottom=0)\n",
    "    histaxes.set_title('Histogram')\n",
    "    histaxes.set_xlabel(r'$\\Delta$X (nm) ($\\Delta$YZ < 10 nm)')\n",
    "    histaxes.set_ylabel('Counts')\n",
    "\n",
    "    return hist_values, bin_edges"
   ]
  },
  {
   "cell_type": "code",
   "execution_count": 10,
   "metadata": {},
   "outputs": [
    {
     "data": {
      "image/png": "[encoded data removed]",
      "text/plain": [
       "<Figure size 640x480 with 1 Axes>"
      ]
     },
     "metadata": {},
     "output_type": "display_data"
    }
   ],
   "source": [
    "hist_values, bin_edges = plot_distance_hist(\n",
    "    transverse_distances,\n",
    "    fitlength\n",
    "    )\n",
    "bin_centres = (bin_edges[0:(len(bin_edges) - 1)]\n",
    "               + bin_edges[1:]\n",
    "               ) / 2"
   ]
  },
  {
   "cell_type": "markdown",
   "metadata": {},
   "source": [
    "## Get the KDE data\n",
    "Estimate every 1 nm, with kernel size based on localisation precision estimate."
   ]
  },
  {
   "cell_type": "code",
   "execution_count": null,
   "metadata": {},
   "outputs": [],
   "source": [
    "kde_x_values, kde = zdisk_plots.plot_distance_kde(\n",
    "    axial_distances,\n",
    "    af647_precision,\n",
    "    100.\n",
    "    )"
   ]
  },
  {
   "cell_type": "markdown",
   "metadata": {},
   "source": [
    "## Calculate the axial RPD with smoothing for Churchman 1D function"
   ]
  },
  {
   "cell_type": "code",
   "execution_count": null,
   "metadata": {},
   "outputs": [],
   "source": [
    "calculation_points = np.arange(fitlength + 1.)\n",
    "axial_rpd = plotting.estimate_rpd_churchman_1d(\n",
    "    input_distances=axial_distances,\n",
    "    calculation_points=calculation_points,\n",
    "    combined_precision=(np.sqrt(2) * af647_precision)\n",
    ")\n",
    "plt.plot(calculation_points, axial_rpd)"
   ]
  },
  {
   "cell_type": "markdown",
   "metadata": {},
   "source": [
    "## Choose axial model:"
   ]
  },
  {
   "cell_type": "code",
   "execution_count": null,
   "metadata": {},
   "outputs": [],
   "source": [
    "axial_model_with_info = zdisk_modelling.set_up_model_4_peaks_fixed_ratio_with_fit_settings()\n"
   ]
  },
  {
   "cell_type": "markdown",
   "metadata": {},
   "source": [
    "## Fit model to histogram bin values, at bin centres"
   ]
  },
  {
   "cell_type": "code",
   "execution_count": null,
   "metadata": {},
   "outputs": [],
   "source": [
    "(params_optimised,\n",
    " params_covar,\n",
    " params_1sd_error) = zdisk_modelling.fitmodel_to_hist(\n",
    "    bin_centres,\n",
    "    hist_values,\n",
    "    axial_model_with_info.model_rpd,\n",
    "    axial_model_with_info.initial_params,\n",
    "    axial_model_with_info.param_bounds,\n",
    "    )\n",
    "print('')\n",
    "print('Initial parameter guesses:')\n",
    "print(axial_model_with_info.initial_params)\n",
    "print('')\n",
    "print('Parameter bounds:')\n",
    "print(axial_model_with_info.param_bounds)"
   ]
  },
  {
   "cell_type": "markdown",
   "metadata": {},
   "source": [
    "## Plot fitted model over histogram data"
   ]
  },
  {
   "cell_type": "code",
   "execution_count": null,
   "metadata": {},
   "outputs": [],
   "source": [
    "fig, axes = zdisk_plots.plot_distance_hist_and_fit(\n",
    "    axial_distances,\n",
    "    fitlength,\n",
    "    params_optimised,\n",
    "    params_covar,\n",
    "    axial_model_with_info\n",
    ")"
   ]
  },
  {
   "cell_type": "markdown",
   "metadata": {},
   "source": [
    "## Plot fitted model over histogram data, with confidence intervals on the model\n",
    "### NOTE: IT TAKES A WHILE TO CALCULATE THE CONFIDENCE INTERVALS\n",
    "### Skip this if you don't need it right now."
   ]
  },
  {
   "cell_type": "code",
   "execution_count": null,
   "metadata": {},
   "outputs": [],
   "source": [
    "zdisk_plots.plot_distance_hist_and_fit(\n",
    "    axial_distances,\n",
    "    fitlength,\n",
    "    params_optimised,\n",
    "    params_covar,\n",
    "    axial_model_with_info,\n",
    "    plot_95ci=True\n",
    ")"
   ]
  },
  {
   "cell_type": "markdown",
   "metadata": {},
   "source": [
    "## Akaike weights for the models\n",
    "Typed in AICc values for the different models here, to obtain relative likelihood, summing to one:"
   ]
  },
  {
   "cell_type": "code",
   "execution_count": null,
   "metadata": {},
   "outputs": [],
   "source": [
    "from modelstats import akaike_weights\n",
    "weights = akaike_weights([\n",
    "    364.35,\n",
    "    364.51,\n",
    "    366.38,\n",
    "    370.28,\n",
    "    374.67\n",
    "])\n",
    "print(weights)"
   ]
  },
  {
   "cell_type": "markdown",
   "metadata": {},
   "source": [
    "## Plot model components for best model (4 peaks with fixed peak ratio)"
   ]
  },
  {
   "cell_type": "code",
   "execution_count": null,
   "metadata": {},
   "outputs": [],
   "source": [
    "zdisk_plots.plot_model_components_4peaks_fixed_peak_ratio(\n",
    "    fitlength,\n",
    "    *params_optimised)"
   ]
  },
  {
   "cell_type": "markdown",
   "metadata": {},
   "source": [
    "# Transverse distances"
   ]
  },
  {
   "cell_type": "markdown",
   "metadata": {},
   "source": [
    "## Get the transverse (YZ) distances, without duplicates\n",
    "The X-distance limit for pairs of localisations to include can be set here."
   ]
  },
  {
   "cell_type": "code",
   "execution_count": null,
   "metadata": {},
   "outputs": [],
   "source": [
    "# This is the YZ-distance limit for X-distances to include:\n",
    "axial_limit = 10.\n",
    "print(relpos.shape)\n",
    "\n",
    "trans_distances = zdisk_modelling.get_transverse_separations(\n",
    "    relpos,\n",
    "    max_distance=relpos.transverse.max(),\n",
    "    axial_limit=axial_limit\n",
    "    )\n",
    "trans_distances = zdisk_modelling.remove_duplicates(trans_distances)"
   ]
  },
  {
   "cell_type": "markdown",
   "metadata": {},
   "source": [
    "## Choose analysis lengthscale for transverse distance"
   ]
  },
  {
   "cell_type": "code",
   "execution_count": null,
   "metadata": {},
   "outputs": [],
   "source": [
    "fitlength = 50."
   ]
  },
  {
   "cell_type": "code",
   "execution_count": null,
   "metadata": {},
   "outputs": [],
   "source": [
    "hist_1nm_bins = plt.hist(trans_distances, bins=np.arange(fitlength + 1.))"
   ]
  },
  {
   "cell_type": "markdown",
   "metadata": {},
   "source": [
    "## Estimate RPD using Churchman's function"
   ]
  },
  {
   "cell_type": "code",
   "execution_count": null,
   "metadata": {},
   "outputs": [],
   "source": [
    "fitlength = 50.\n",
    "calculation_points = np.arange(fitlength + 1.)\n",
    "combined_precision= np.sqrt(2) * af647_precision\n",
    "transverse_rpd = plotting.estimate_rpd_churchman_2d(\n",
    "    input_distances=trans_distances[trans_distances < (fitlength + 3 * combined_precision)],\n",
    "    calculation_points=calculation_points,\n",
    "    combined_precision=combined_precision\n",
    ")\n",
    "plt.plot(calculation_points, transverse_rpd)"
   ]
  },
  {
   "cell_type": "markdown",
   "metadata": {},
   "source": [
    "## Normalise for increasing search circle with increasing distance"
   ]
  },
  {
   "cell_type": "code",
   "execution_count": null,
   "metadata": {},
   "outputs": [],
   "source": [
    "normalised_transverse_rpd = transverse_rpd[calculation_points > 0.] / calculation_points[calculation_points > 0.]\n",
    "norm_rpd_calculation_points = calculation_points[calculation_points > 0.]\n",
    "plt.plot(norm_rpd_calculation_points, normalised_transverse_rpd)"
   ]
  },
  {
   "cell_type": "markdown",
   "metadata": {},
   "source": [
    "### 1 nm-bin  histogram result for comparison"
   ]
  },
  {
   "cell_type": "code",
   "execution_count": null,
   "metadata": {},
   "outputs": [],
   "source": [
    "plt.plot(hist_1nm_bins[1][0:-1] + 0.5, hist_1nm_bins[0]/(hist_1nm_bins[1][0:-1] + 0.5))"
   ]
  },
  {
   "cell_type": "markdown",
   "metadata": {},
   "source": [
    "### Optional save/load to save time"
   ]
  },
  {
   "cell_type": "code",
   "execution_count": null,
   "metadata": {},
   "outputs": [],
   "source": [
    "np.save('normalised_transverse_rpd_smoothed_Churchman-4p4', normalised_transverse_rpd)\n",
    "# normalised_transverse_rpd = np.load('normalised_transverse_rpd_smoothed_Churchman-4p4.npy')"
   ]
  },
  {
   "cell_type": "markdown",
   "metadata": {},
   "source": [
    "## Set up an RPD model and fit\n",
    "I've tried a few smoothing kernel widths here."
   ]
  },
  {
   "cell_type": "code",
   "execution_count": null,
   "metadata": {},
   "outputs": [],
   "source": [
    "trans_model_with_info = zdisk_modelling.set_up_model_2d_onepeak_plus_replocs_flat_bg_with_fit_settings()"
   ]
  },
  {
   "cell_type": "code",
   "execution_count": null,
   "metadata": {},
   "outputs": [],
   "source": [
    "(params_optimised,\n",
    " params_covar,\n",
    " params_1sd_error) = zdisk_modelling.fitmodel_to_hist(\n",
    "    norm_rpd_calculation_points[0:31],\n",
    "    normalised_transverse_rpd[0:31],\n",
    "    trans_model_with_info.model_rpd,\n",
    "    trans_model_with_info.initial_params,\n",
    "    trans_model_with_info.param_bounds\n",
    "    )\n",
    "print('')\n",
    "print('Initial parameter guesses:')\n",
    "print(trans_model_with_info.initial_params)\n",
    "print('')\n",
    "print('Parameter bounds:')\n",
    "print(trans_model_with_info.param_bounds)"
   ]
  },
  {
   "cell_type": "code",
   "execution_count": null,
   "metadata": {},
   "outputs": [],
   "source": [
    "plt.plot(norm_rpd_calculation_points,\n",
    "    normalised_transverse_rpd)\n",
    "zdisk_plots.plot_fitted_model(\n",
    "    norm_rpd_calculation_points,\n",
    "    fitlength,\n",
    "    params_optimised,\n",
    "    params_covar,\n",
    "    trans_model_with_info,\n",
    "    plot_95ci=False\n",
    "    )"
   ]
  },
  {
   "cell_type": "code",
   "execution_count": null,
   "metadata": {},
   "outputs": [],
   "source": [
    "fitlength = 50.\n",
    "calculation_points = np.arange(fitlength + 1.)\n",
    "combined_precision=8.\n",
    "transverse_rpd_s8 = plotting.estimate_rpd_churchman_2d(\n",
    "    input_distances=trans_distances[trans_distances < (fitlength + 3 * combined_precision)],\n",
    "    calculation_points=calculation_points,\n",
    "    combined_precision=combined_precision\n",
    ")"
   ]
  },
  {
   "cell_type": "code",
   "execution_count": null,
   "metadata": {},
   "outputs": [],
   "source": [
    "normalised_transverse_rpd_s8 = transverse_rpd_s8[calculation_points > 0.] / calculation_points[calculation_points > 0.]\n",
    "norm_rpd_calculation_points = calculation_points[calculation_points > 0.]\n",
    "plt.plot(norm_rpd_calculation_points, normalised_transverse_rpd_s8)\n",
    "np.save('..\\data-perpl\\ACTN2-Affimer\\\\normalised_transverse_rpd_smoothed_Churchman-8', normalised_transverse_rpd_s8)\n",
    "# normalised_transverse_rpd = np.load('normalised_transverse_rpd_smoothed_Churchman-4p4.npy')"
   ]
  },
  {
   "cell_type": "code",
   "execution_count": null,
   "metadata": {},
   "outputs": [],
   "source": [
    "(params_optimised,\n",
    " params_covar,\n",
    " params_1sd_error) = zdisk_modelling.fitmodel_to_hist(\n",
    "    norm_rpd_calculation_points[0:31],\n",
    "    normalised_transverse_rpd_s8[0:31],\n",
    "    trans_model_with_info.model_rpd,\n",
    "    trans_model_with_info.initial_params,\n",
    "    trans_model_with_info.param_bounds\n",
    "    )\n",
    "print('')\n",
    "print('Initial parameter guesses:')\n",
    "print(trans_model_with_info.initial_params)\n",
    "print('')\n",
    "print('Parameter bounds:')\n",
    "print(trans_model_with_info.param_bounds)"
   ]
  },
  {
   "cell_type": "code",
   "execution_count": null,
   "metadata": {},
   "outputs": [],
   "source": [
    "plt.plot(norm_rpd_calculation_points,\n",
    "    normalised_transverse_rpd_s8)\n",
    "zdisk_plots.plot_fitted_model(\n",
    "    norm_rpd_calculation_points,\n",
    "    fitlength,\n",
    "    params_optimised,\n",
    "    params_covar,\n",
    "    trans_model_with_info,\n",
    "    plot_95ci=False\n",
    "    )"
   ]
  },
  {
   "cell_type": "code",
   "execution_count": null,
   "metadata": {},
   "outputs": [],
   "source": [
    "fitlength = 50.\n",
    "calculation_points = np.arange(fitlength + 1.)\n",
    "combined_precision=5.\n",
    "transverse_rpd_s5 = plotting.estimate_rpd_churchman_2d(\n",
    "    input_distances=trans_distances[trans_distances < (fitlength + 3 * combined_precision)],\n",
    "    calculation_points=calculation_points,\n",
    "    combined_precision=combined_precision\n",
    ")"
   ]
  },
  {
   "cell_type": "code",
   "execution_count": null,
   "metadata": {},
   "outputs": [],
   "source": [
    "normalised_transverse_rpd_s5 = transverse_rpd_s5[calculation_points > 0.] / calculation_points[calculation_points > 0.]\n",
    "norm_rpd_calculation_points = calculation_points[calculation_points > 0.]\n",
    "plt.plot(norm_rpd_calculation_points, normalised_transverse_rpd_s5)\n",
    "np.save('normalised_transverse_rpd_smoothed_Churchman-5', normalised_transverse_rpd_s5)\n",
    "# normalised_transverse_rpd = np.load('normalised_transverse_rpd_smoothed_Churchman-4p4.npy')"
   ]
  },
  {
   "cell_type": "code",
   "execution_count": null,
   "metadata": {},
   "outputs": [],
   "source": [
    "fitlength = 50.\n",
    "calculation_points = np.arange(fitlength + 1.)\n",
    "combined_precision=6.\n",
    "transverse_rpd_s6 = plotting.estimate_rpd_churchman_2d(\n",
    "    input_distances=trans_distances[trans_distances < (fitlength + 3 * combined_precision)],\n",
    "    calculation_points=calculation_points,\n",
    "    combined_precision=combined_precision\n",
    ")"
   ]
  },
  {
   "cell_type": "code",
   "execution_count": null,
   "metadata": {},
   "outputs": [],
   "source": [
    "normalised_transverse_rpd_s6 = transverse_rpd_s6[calculation_points > 0.] / calculation_points[calculation_points > 0.]\n",
    "norm_rpd_calculation_points = calculation_points[calculation_points > 0.]\n",
    "plt.plot(norm_rpd_calculation_points, normalised_transverse_rpd_s6)\n",
    "np.save('normalised_transverse_rpd_smoothed_Churchman-6', normalised_transverse_rpd_s6)\n",
    "# normalised_transverse_rpd = np.load('normalised_transverse_rpd_smoothed_Churchman-4p4.npy')"
   ]
  },
  {
   "cell_type": "code",
   "execution_count": null,
   "metadata": {},
   "outputs": [],
   "source": [
    "(params_optimised,\n",
    " params_covar,\n",
    " params_1sd_error) = zdisk_modelling.fitmodel_to_hist(\n",
    "    norm_rpd_calculation_points[0:31],\n",
    "    normalised_transverse_rpd_s6[0:31],\n",
    "    trans_model_with_info.model_rpd,\n",
    "    trans_model_with_info.initial_params,\n",
    "    trans_model_with_info.param_bounds\n",
    "    )\n",
    "print('')\n",
    "print('Initial parameter guesses:')\n",
    "print(trans_model_with_info.initial_params)\n",
    "print('')\n",
    "print('Parameter bounds:')\n",
    "print(trans_model_with_info.param_bounds)"
   ]
  },
  {
   "cell_type": "code",
   "execution_count": null,
   "metadata": {},
   "outputs": [],
   "source": [
    "plt.plot(norm_rpd_calculation_points,\n",
    "    normalised_transverse_rpd_s8)\n",
    "zdisk_plots.plot_fitted_model(\n",
    "    norm_rpd_calculation_points,\n",
    "    fitlength,\n",
    "    params_optimised,\n",
    "    params_covar,\n",
    "    trans_model_with_info,\n",
    "    plot_95ci=False\n",
    "    )"
   ]
  },
  {
   "cell_type": "markdown",
   "metadata": {},
   "source": [
    "## Set up another model and fit\n",
    "Tried a few smoothing widths again\n",
    "### This model fits much better"
   ]
  },
  {
   "cell_type": "code",
   "execution_count": null,
   "metadata": {},
   "outputs": [],
   "source": [
    "trans_model_with_info = zdisk_modelling.set_up_model_2d_twopeaks_flat_bg_with_fit_settings()"
   ]
  },
  {
   "cell_type": "code",
   "execution_count": null,
   "metadata": {},
   "outputs": [],
   "source": [
    "normalised_transverse_rpd_s6 = np.load('./normalised_transverse_rpd_smoothed_Churchman-6.npy')\n",
    "calculation_points = np.arange(fitlength + 1.)\n",
    "norm_rpd_calculation_points = calculation_points[calculation_points > 0.]"
   ]
  },
  {
   "cell_type": "code",
   "execution_count": null,
   "metadata": {},
   "outputs": [],
   "source": [
    "(params_optimised,\n",
    " params_covar,\n",
    " params_1sd_error) = zdisk_modelling.fitmodel_to_hist(\n",
    "    norm_rpd_calculation_points[0:31],\n",
    "    normalised_transverse_rpd_s6[0:31],\n",
    "    trans_model_with_info.model_rpd,\n",
    "    trans_model_with_info.initial_params,\n",
    "    trans_model_with_info.param_bounds\n",
    "    )\n",
    "print('')\n",
    "print('Initial parameter guesses:')\n",
    "print(trans_model_with_info.initial_params)\n",
    "print('')\n",
    "print('Parameter bounds:')\n",
    "print(trans_model_with_info.param_bounds)"
   ]
  },
  {
   "cell_type": "code",
   "execution_count": null,
   "metadata": {},
   "outputs": [],
   "source": [
    "plt.plot(norm_rpd_calculation_points[0:31],\n",
    "    normalised_transverse_rpd_s6[0:31])\n",
    "zdisk_plots.plot_fitted_model(\n",
    "    norm_rpd_calculation_points[0:31],\n",
    "    31.,\n",
    "    params_optimised,\n",
    "    params_covar,\n",
    "    trans_model_with_info,\n",
    "    plot_95ci=True\n",
    "    )"
   ]
  },
  {
   "cell_type": "code",
   "execution_count": null,
   "metadata": {},
   "outputs": [],
   "source": [
    "(params_optimised,\n",
    " params_covar,\n",
    " params_1sd_error) = zdisk_modelling.fitmodel_to_hist(\n",
    "    norm_rpd_calculation_points[0:31],\n",
    "    normalised_transverse_rpd[0:31],\n",
    "    trans_model_with_info.model_rpd,\n",
    "    trans_model_with_info.initial_params,\n",
    "    trans_model_with_info.param_bounds\n",
    "    )\n",
    "print('')\n",
    "print('Initial parameter guesses:')\n",
    "print(trans_model_with_info.initial_params)\n",
    "print('')\n",
    "print('Parameter bounds:')\n",
    "print(trans_model_with_info.param_bounds)"
   ]
  },
  {
   "cell_type": "code",
   "execution_count": null,
   "metadata": {},
   "outputs": [],
   "source": [
    "plt.plot(norm_rpd_calculation_points[0:31],\n",
    "    normalised_transverse_rpd[0:31])\n",
    "zdisk_plots.plot_fitted_model(\n",
    "    norm_rpd_calculation_points[0:31],\n",
    "    31.,\n",
    "    params_optimised,\n",
    "    params_covar,\n",
    "    trans_model_with_info,\n",
    "    plot_95ci=True\n",
    "    )"
   ]
  },
  {
   "cell_type": "code",
   "execution_count": null,
   "metadata": {},
   "outputs": [],
   "source": [
    "normalised_transverse_rpd_s8 = np.load('./normalised_transverse_rpd_smoothed_Churchman-8.npy')\n",
    "calculation_points = np.arange(fitlength + 1.)\n",
    "norm_rpd_calculation_points = calculation_points[calculation_points > 0.]"
   ]
  },
  {
   "cell_type": "code",
   "execution_count": null,
   "metadata": {},
   "outputs": [],
   "source": [
    "(params_optimised,\n",
    " params_covar,\n",
    " params_1sd_error) = zdisk_modelling.fitmodel_to_hist(\n",
    "    norm_rpd_calculation_points[0:31],\n",
    "    normalised_transverse_rpd_s8[0:31],\n",
    "    trans_model_with_info.model_rpd,\n",
    "    trans_model_with_info.initial_params,\n",
    "    trans_model_with_info.param_bounds\n",
    "    )\n",
    "print('')\n",
    "print('Initial parameter guesses:')\n",
    "print(trans_model_with_info.initial_params)\n",
    "print('')\n",
    "print('Parameter bounds:')\n",
    "print(trans_model_with_info.param_bounds)"
   ]
  },
  {
   "cell_type": "code",
   "execution_count": null,
   "metadata": {},
   "outputs": [],
   "source": [
    "plt.plot(norm_rpd_calculation_points[0:31],\n",
    "    normalised_transverse_rpd_s8[0:31])\n",
    "zdisk_plots.plot_fitted_model(\n",
    "    norm_rpd_calculation_points[0:31],\n",
    "    31.,\n",
    "    params_optimised,\n",
    "    params_covar,\n",
    "    trans_model_with_info,\n",
    "    plot_95ci=True\n",
    "    )"
   ]
  },
  {
   "cell_type": "code",
   "execution_count": null,
   "metadata": {},
   "outputs": [],
   "source": [
    "(params_optimised,\n",
    " params_covar,\n",
    " params_1sd_error) = zdisk_modelling.fitmodel_to_hist(\n",
    "    norm_rpd_calculation_points[0:31],\n",
    "    normalised_transverse_rpd_s5[0:31],\n",
    "    trans_model_with_info.model_rpd,\n",
    "    trans_model_with_info.initial_params,\n",
    "    trans_model_with_info.param_bounds\n",
    "    )\n",
    "print('')\n",
    "print('Initial parameter guesses:')\n",
    "print(trans_model_with_info.initial_params)\n",
    "print('')\n",
    "print('Parameter bounds:')\n",
    "print(trans_model_with_info.param_bounds)"
   ]
  },
  {
   "cell_type": "code",
   "execution_count": null,
   "metadata": {},
   "outputs": [],
   "source": [
    "plt.plot(norm_rpd_calculation_points[0:31],\n",
    "    normalised_transverse_rpd_s5[0:31])\n",
    "zdisk_plots.plot_fitted_model(\n",
    "    norm_rpd_calculation_points[0:31],\n",
    "    31.,\n",
    "    params_optimised,\n",
    "    params_covar,\n",
    "    trans_model_with_info,\n",
    "    plot_95ci=True\n",
    "    )"
   ]
  },
  {
   "cell_type": "code",
   "execution_count": null,
   "metadata": {},
   "outputs": [],
   "source": []
  }
 ],
 "metadata": {
  "file_extension": ".py",
  "kernelspec": {
   "display_name": "Python 3 (ipykernel)",
   "language": "python",
   "name": "python3"
  },
  "language_info": {
   "codemirror_mode": {
    "name": "ipython",
    "version": 3
   },
   "file_extension": ".py",
   "mimetype": "text/x-python",
   "name": "python",
   "nbconvert_exporter": "python",
   "pygments_lexer": "ipython3",
   "version": "3.11.5"
  },
  "mimetype": "text/x-python",
  "name": "python",
  "npconvert_exporter": "python",
  "pygments_lexer": "ipython3",
  "version": 3
 },
 "nbformat": 4,
 "nbformat_minor": 4
}
